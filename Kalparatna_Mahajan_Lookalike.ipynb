{
 "cells": [
  {
   "cell_type": "markdown",
   "id": "833cc167-a349-4864-9b51-cf017b4a0731",
   "metadata": {},
   "source": [
    "### Importing required Libraries"
   ]
  },
  {
   "cell_type": "code",
   "execution_count": 30,
   "id": "63435156-08cb-4558-911f-560455b0f491",
   "metadata": {},
   "outputs": [],
   "source": [
    "import pandas as pd\n",
    "from sklearn.metrics.pairwise import cosine_similarity\n",
    "from sklearn.preprocessing import StandardScaler"
   ]
  },
  {
   "cell_type": "markdown",
   "id": "64e7ea1b-6bd1-4953-8be4-5e8420025020",
   "metadata": {},
   "source": [
    "### Load datasets"
   ]
  },
  {
   "cell_type": "code",
   "execution_count": 31,
   "id": "ec25cefa-6263-4451-95f2-0b19ac317b6e",
   "metadata": {},
   "outputs": [],
   "source": [
    "\n",
    "customers = pd.read_csv(\"Customers.csv\")\n",
    "products = pd.read_csv(\"Products.csv\")\n",
    "transactions = pd.read_csv(\"Transactions.csv\")\n"
   ]
  },
  {
   "cell_type": "markdown",
   "id": "bfec9999-7744-4cd7-b493-06df4d2f8fe6",
   "metadata": {},
   "source": [
    "### Merge datasets"
   ]
  },
  {
   "cell_type": "code",
   "execution_count": 32,
   "id": "7fe360a7-ddb9-44b5-bfad-716b495b69e2",
   "metadata": {},
   "outputs": [],
   "source": [
    "transactions = transactions.merge(customers, on=\"CustomerID\", how=\"left\")\n",
    "transactions = transactions.merge(products, on=\"ProductID\", how=\"left\")"
   ]
  },
  {
   "cell_type": "markdown",
   "id": "1ad033f6-1a4b-4195-8889-f3a204e8dc98",
   "metadata": {},
   "source": [
    "### Feature Engineering"
   ]
  },
  {
   "cell_type": "code",
   "execution_count": 33,
   "id": "9a572bfd-1566-4698-b0e0-cc84c22f9963",
   "metadata": {},
   "outputs": [],
   "source": [
    "customer_profiles = transactions.groupby(\"CustomerID\").agg({\n",
    "    \"TotalValue\": \"mean\",\n",
    "    \"Quantity\": \"sum\",\n",
    "    \"Category\": lambda x: x.value_counts().idxmax(),\n",
    "    \"Price_x\": \"mean\"\n",
    "}).reset_index()\n"
   ]
  },
  {
   "cell_type": "markdown",
   "id": "308e9473-fd2f-4182-bd33-e7a4bd20e0af",
   "metadata": {},
   "source": [
    "### Encode categorical features"
   ]
  },
  {
   "cell_type": "code",
   "execution_count": 34,
   "id": "55f80e06-a638-4e35-957e-0e9da0d5ab80",
   "metadata": {},
   "outputs": [],
   "source": [
    "customer_profiles = pd.get_dummies(customer_profiles, columns=[\"Category\"], drop_first=True)"
   ]
  },
  {
   "cell_type": "markdown",
   "id": "e056132a-a912-4851-a403-75509ca2389e",
   "metadata": {},
   "source": [
    "### Normalize features"
   ]
  },
  {
   "cell_type": "code",
   "execution_count": 35,
   "id": "35b4ce48-04af-4c75-ac25-eac1ac56a8bc",
   "metadata": {},
   "outputs": [],
   "source": [
    "scaler = StandardScaler()\n",
    "features = customer_profiles.drop(\"CustomerID\", axis=1)\n",
    "features_scaled = scaler.fit_transform(features)"
   ]
  },
  {
   "cell_type": "markdown",
   "id": "8834c481-ef37-4359-af9f-dc56379d17a4",
   "metadata": {},
   "source": [
    "### Compute cosine similarity"
   ]
  },
  {
   "cell_type": "code",
   "execution_count": 36,
   "id": "447dd90e-85de-4abe-b3b7-a203387e961d",
   "metadata": {},
   "outputs": [],
   "source": [
    "similarity_matrix = cosine_similarity(features_scaled)"
   ]
  },
  {
   "cell_type": "markdown",
   "id": "51e43cd4-a360-4bd8-aae0-46fd23467de5",
   "metadata": {},
   "source": [
    "### Create Lookalike dictionary"
   ]
  },
  {
   "cell_type": "code",
   "execution_count": 37,
   "id": "a97969ca-7d0b-422a-b460-20fa9590ee43",
   "metadata": {},
   "outputs": [],
   "source": [
    "lookalike_map = {}\n",
    "for idx, customer_id in enumerate(customer_profiles[\"CustomerID\"][:20]):  # First 20 customers\n",
    "    similarity_scores = list(enumerate(similarity_matrix[idx]))\n",
    "    sorted_scores = sorted(similarity_scores, key=lambda x: x[1], reverse=True)\n",
    "    top_3 = [(customer_profiles.iloc[i][\"CustomerID\"], round(score, 4)) for i, score in sorted_scores[1:4]]  # Top 3\n",
    "    lookalike_map[customer_id] = top_3"
   ]
  },
  {
   "cell_type": "markdown",
   "id": "992f44ba-01c6-4d2a-84c1-4317783d9d95",
   "metadata": {},
   "source": [
    "### Export Lookalike map to CSV"
   ]
  },
  {
   "cell_type": "code",
   "execution_count": 38,
   "id": "96578d62-d909-4d11-aa7b-eb1a171a05b2",
   "metadata": {},
   "outputs": [
    {
     "name": "stdout",
     "output_type": "stream",
     "text": [
      "Lookalike.csv generated successfully.\n"
     ]
    }
   ],
   "source": [
    "lookalike_df = pd.DataFrame.from_dict(lookalike_map, orient=\"index\", columns=[\"Customer1\", \"Customer2\", \"Customer3\"])\n",
    "lookalike_df.to_csv(\"Lookalike.csv\", index_label=\"CustomerID\")\n",
    "\n",
    "print(\"Lookalike.csv generated successfully.\")\n"
   ]
  }
 ],
 "metadata": {
  "kernelspec": {
   "display_name": "Python 3 (ipykernel)",
   "language": "python",
   "name": "python3"
  },
  "language_info": {
   "codemirror_mode": {
    "name": "ipython",
    "version": 3
   },
   "file_extension": ".py",
   "mimetype": "text/x-python",
   "name": "python",
   "nbconvert_exporter": "python",
   "pygments_lexer": "ipython3",
   "version": "3.12.2"
  }
 },
 "nbformat": 4,
 "nbformat_minor": 5
}
